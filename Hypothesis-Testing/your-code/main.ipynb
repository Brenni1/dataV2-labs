{
 "cells": [
  {
   "cell_type": "markdown",
   "metadata": {},
   "source": [
    "# Before you start:\n",
    "- Read the README.md file\n",
    "- Comment as much as you can and use the resources (README.md file)\n",
    "- Happy learning!"
   ]
  },
  {
   "cell_type": "code",
   "execution_count": 47,
   "metadata": {},
   "outputs": [],
   "source": [
    "import numpy as np\n",
    "import pandas as pd\n"
   ]
  },
  {
   "cell_type": "markdown",
   "metadata": {},
   "source": [
    "# Challenge 1 - Exploring the Data\n",
    "\n",
    "In this challenge, we will examine all salaries of employees of the City of Chicago. We will start by loading the dataset and examining its contents. Please, load the data using Ironhack's database (db: employees, table: employees_advanced)."
   ]
  },
  {
   "cell_type": "code",
   "execution_count": 48,
   "metadata": {},
   "outputs": [
    {
     "data": {
      "text/plain": [
       "(32658, 8)"
      ]
     },
     "execution_count": 48,
     "metadata": {},
     "output_type": "execute_result"
    }
   ],
   "source": [
    "data = pd.read_csv('./Current_Employee_Names__Salaries__and_Position_Titles.csv')\n",
    "data.columns = [i.lower().replace(' ', '_') for i in data.columns]\n",
    "data.shape"
   ]
  },
  {
   "cell_type": "markdown",
   "metadata": {},
   "source": [
    "Examine the `salaries` dataset using the `head` function below."
   ]
  },
  {
   "cell_type": "code",
   "execution_count": 49,
   "metadata": {},
   "outputs": [
    {
     "data": {
      "text/html": [
       "<div>\n",
       "<style scoped>\n",
       "    .dataframe tbody tr th:only-of-type {\n",
       "        vertical-align: middle;\n",
       "    }\n",
       "\n",
       "    .dataframe tbody tr th {\n",
       "        vertical-align: top;\n",
       "    }\n",
       "\n",
       "    .dataframe thead th {\n",
       "        text-align: right;\n",
       "    }\n",
       "</style>\n",
       "<table border=\"1\" class=\"dataframe\">\n",
       "  <thead>\n",
       "    <tr style=\"text-align: right;\">\n",
       "      <th></th>\n",
       "      <th>name</th>\n",
       "      <th>job_titles</th>\n",
       "      <th>department</th>\n",
       "      <th>full_or_part-time</th>\n",
       "      <th>salary_or_hourly</th>\n",
       "      <th>typical_hours</th>\n",
       "      <th>annual_salary</th>\n",
       "      <th>hourly_rate</th>\n",
       "    </tr>\n",
       "  </thead>\n",
       "  <tbody>\n",
       "    <tr>\n",
       "      <th>0</th>\n",
       "      <td>ALLISON,  PAUL W</td>\n",
       "      <td>LIEUTENANT</td>\n",
       "      <td>FIRE</td>\n",
       "      <td>F</td>\n",
       "      <td>Salary</td>\n",
       "      <td>NaN</td>\n",
       "      <td>$107790.00</td>\n",
       "      <td>NaN</td>\n",
       "    </tr>\n",
       "    <tr>\n",
       "      <th>1</th>\n",
       "      <td>BRUNO,  KEVIN D</td>\n",
       "      <td>SERGEANT</td>\n",
       "      <td>POLICE</td>\n",
       "      <td>F</td>\n",
       "      <td>Salary</td>\n",
       "      <td>NaN</td>\n",
       "      <td>$104628.00</td>\n",
       "      <td>NaN</td>\n",
       "    </tr>\n",
       "    <tr>\n",
       "      <th>2</th>\n",
       "      <td>COOPER,  JOHN E</td>\n",
       "      <td>LIEUTENANT-EMT</td>\n",
       "      <td>FIRE</td>\n",
       "      <td>F</td>\n",
       "      <td>Salary</td>\n",
       "      <td>NaN</td>\n",
       "      <td>$114324.00</td>\n",
       "      <td>NaN</td>\n",
       "    </tr>\n",
       "    <tr>\n",
       "      <th>3</th>\n",
       "      <td>CRESPO,  VILMA I</td>\n",
       "      <td>STAFF ASST</td>\n",
       "      <td>LAW</td>\n",
       "      <td>F</td>\n",
       "      <td>Salary</td>\n",
       "      <td>NaN</td>\n",
       "      <td>$76932.00</td>\n",
       "      <td>NaN</td>\n",
       "    </tr>\n",
       "    <tr>\n",
       "      <th>4</th>\n",
       "      <td>DOLAN,  ROBERT J</td>\n",
       "      <td>SERGEANT</td>\n",
       "      <td>POLICE</td>\n",
       "      <td>F</td>\n",
       "      <td>Salary</td>\n",
       "      <td>NaN</td>\n",
       "      <td>$111474.00</td>\n",
       "      <td>NaN</td>\n",
       "    </tr>\n",
       "  </tbody>\n",
       "</table>\n",
       "</div>"
      ],
      "text/plain": [
       "               name      job_titles department full_or_part-time  \\\n",
       "0  ALLISON,  PAUL W      LIEUTENANT       FIRE                 F   \n",
       "1   BRUNO,  KEVIN D        SERGEANT     POLICE                 F   \n",
       "2   COOPER,  JOHN E  LIEUTENANT-EMT       FIRE                 F   \n",
       "3  CRESPO,  VILMA I      STAFF ASST        LAW                 F   \n",
       "4  DOLAN,  ROBERT J        SERGEANT     POLICE                 F   \n",
       "\n",
       "  salary_or_hourly  typical_hours annual_salary hourly_rate  \n",
       "0           Salary            NaN    $107790.00         NaN  \n",
       "1           Salary            NaN    $104628.00         NaN  \n",
       "2           Salary            NaN    $114324.00         NaN  \n",
       "3           Salary            NaN     $76932.00         NaN  \n",
       "4           Salary            NaN    $111474.00         NaN  "
      ]
     },
     "execution_count": 49,
     "metadata": {},
     "output_type": "execute_result"
    }
   ],
   "source": [
    "data.head()"
   ]
  },
  {
   "cell_type": "markdown",
   "metadata": {},
   "source": [
    "We see from looking at the `head` function that there is quite a bit of missing data. Let's examine how much missing data is in each column. Produce this output in the cell below"
   ]
  },
  {
   "cell_type": "code",
   "execution_count": 50,
   "metadata": {},
   "outputs": [
    {
     "data": {
      "text/plain": [
       "name                     0\n",
       "job_titles               0\n",
       "department               0\n",
       "full_or_part-time        0\n",
       "salary_or_hourly         0\n",
       "typical_hours        24775\n",
       "annual_salary         7883\n",
       "hourly_rate          24775\n",
       "dtype: int64"
      ]
     },
     "execution_count": 50,
     "metadata": {},
     "output_type": "execute_result"
    }
   ],
   "source": [
    "data.isna().sum()"
   ]
  },
  {
   "cell_type": "markdown",
   "metadata": {},
   "source": [
    "Let's also look at the count of hourly vs. salaried employees. Write the code in the cell below"
   ]
  },
  {
   "cell_type": "code",
   "execution_count": 51,
   "metadata": {},
   "outputs": [
    {
     "data": {
      "text/plain": [
       "Salary    24775\n",
       "Hourly     7883\n",
       "Name: salary_or_hourly, dtype: int64"
      ]
     },
     "execution_count": 51,
     "metadata": {},
     "output_type": "execute_result"
    }
   ],
   "source": [
    "data['salary_or_hourly'].value_counts()"
   ]
  },
  {
   "cell_type": "markdown",
   "metadata": {},
   "source": [
    "What this information indicates is that the table contains information about two types of employees - salaried and hourly. Some columns apply only to one type of employee while other columns only apply to another kind. This is why there are so many missing values. Therefore, we will not do anything to handle the missing values."
   ]
  },
  {
   "cell_type": "markdown",
   "metadata": {},
   "source": [
    "There are different departments in the city. List all departments and the count of employees in each department."
   ]
  },
  {
   "cell_type": "code",
   "execution_count": 52,
   "metadata": {},
   "outputs": [
    {
     "data": {
      "text/plain": [
       "POLICE                   12973\n",
       "FIRE                      4800\n",
       "STREETS & SAN             2194\n",
       "OEMC                      2044\n",
       "WATER MGMNT               1878\n",
       "AVIATION                  1612\n",
       "TRANSPORTN                1103\n",
       "GENERAL SERVICES           972\n",
       "PUBLIC LIBRARY             932\n",
       "FAMILY & SUPPORT           621\n",
       "FINANCE                    575\n",
       "HEALTH                     516\n",
       "LAW                        405\n",
       "CITY COUNCIL               400\n",
       "BUILDINGS                  266\n",
       "COMMUNITY DEVELOPMENT      214\n",
       "BUSINESS AFFAIRS           168\n",
       "BOARD OF ELECTION          112\n",
       "DoIT                       101\n",
       "PROCUREMENT                 86\n",
       "MAYOR'S OFFICE              85\n",
       "CITY CLERK                  85\n",
       "CULTURAL AFFAIRS            76\n",
       "ANIMAL CONTRL               73\n",
       "HUMAN RESOURCES             68\n",
       "INSPECTOR GEN               63\n",
       "IPRA                        56\n",
       "BUDGET & MGMT               44\n",
       "ADMIN HEARNG                38\n",
       "DISABILITIES                29\n",
       "TREASURER                   24\n",
       "HUMAN RELATIONS             17\n",
       "COPA                        17\n",
       "BOARD OF ETHICS              8\n",
       "POLICE BOARD                 2\n",
       "LICENSE APPL COMM            1\n",
       "Name: department, dtype: int64"
      ]
     },
     "execution_count": 52,
     "metadata": {},
     "output_type": "execute_result"
    }
   ],
   "source": [
    "data['department'].value_counts()"
   ]
  },
  {
   "cell_type": "markdown",
   "metadata": {},
   "source": [
    "# Challenge 2 - Hypothesis Tests\n",
    "\n",
    "In this section of the lab, we will test whether the hourly wage of all hourly workers is significantly different from $30/hr. Import the correct one sample test function from scipy and perform the hypothesis test for a 95% two sided confidence interval."
   ]
  },
  {
   "cell_type": "code",
   "execution_count": 53,
   "metadata": {},
   "outputs": [],
   "source": [
    "import scipy as sp"
   ]
  },
  {
   "cell_type": "code",
   "execution_count": 54,
   "metadata": {},
   "outputs": [
    {
     "data": {
      "text/html": [
       "<div>\n",
       "<style scoped>\n",
       "    .dataframe tbody tr th:only-of-type {\n",
       "        vertical-align: middle;\n",
       "    }\n",
       "\n",
       "    .dataframe tbody tr th {\n",
       "        vertical-align: top;\n",
       "    }\n",
       "\n",
       "    .dataframe thead th {\n",
       "        text-align: right;\n",
       "    }\n",
       "</style>\n",
       "<table border=\"1\" class=\"dataframe\">\n",
       "  <thead>\n",
       "    <tr style=\"text-align: right;\">\n",
       "      <th></th>\n",
       "      <th>name</th>\n",
       "      <th>job_titles</th>\n",
       "      <th>department</th>\n",
       "      <th>full_or_part-time</th>\n",
       "      <th>salary_or_hourly</th>\n",
       "      <th>typical_hours</th>\n",
       "      <th>annual_salary</th>\n",
       "      <th>hourly_rate</th>\n",
       "    </tr>\n",
       "  </thead>\n",
       "  <tbody>\n",
       "    <tr>\n",
       "      <th>11</th>\n",
       "      <td>FITCH,  JORDAN M</td>\n",
       "      <td>LAW CLERK</td>\n",
       "      <td>LAW</td>\n",
       "      <td>F</td>\n",
       "      <td>Hourly</td>\n",
       "      <td>35.0</td>\n",
       "      <td>NaN</td>\n",
       "      <td>$14.51</td>\n",
       "    </tr>\n",
       "    <tr>\n",
       "      <th>54</th>\n",
       "      <td>ABASCAL,  REECE E</td>\n",
       "      <td>TRAFFIC CONTROL AIDE-HOURLY</td>\n",
       "      <td>OEMC</td>\n",
       "      <td>P</td>\n",
       "      <td>Hourly</td>\n",
       "      <td>20.0</td>\n",
       "      <td>NaN</td>\n",
       "      <td>$19.66</td>\n",
       "    </tr>\n",
       "    <tr>\n",
       "      <th>56</th>\n",
       "      <td>ABBATACOLA,  ROBERT J</td>\n",
       "      <td>ELECTRICAL MECHANIC</td>\n",
       "      <td>AVIATION</td>\n",
       "      <td>F</td>\n",
       "      <td>Hourly</td>\n",
       "      <td>40.0</td>\n",
       "      <td>NaN</td>\n",
       "      <td>$46.10</td>\n",
       "    </tr>\n",
       "    <tr>\n",
       "      <th>57</th>\n",
       "      <td>ABBATE,  JOSEPH L</td>\n",
       "      <td>POOL MOTOR TRUCK DRIVER</td>\n",
       "      <td>STREETS &amp; SAN</td>\n",
       "      <td>F</td>\n",
       "      <td>Hourly</td>\n",
       "      <td>40.0</td>\n",
       "      <td>NaN</td>\n",
       "      <td>$35.60</td>\n",
       "    </tr>\n",
       "    <tr>\n",
       "      <th>60</th>\n",
       "      <td>ABBOTT,  BETTY L</td>\n",
       "      <td>FOSTER GRANDPARENT</td>\n",
       "      <td>FAMILY &amp; SUPPORT</td>\n",
       "      <td>P</td>\n",
       "      <td>Hourly</td>\n",
       "      <td>20.0</td>\n",
       "      <td>NaN</td>\n",
       "      <td>$2.65</td>\n",
       "    </tr>\n",
       "  </tbody>\n",
       "</table>\n",
       "</div>"
      ],
      "text/plain": [
       "                     name                   job_titles        department  \\\n",
       "11       FITCH,  JORDAN M                    LAW CLERK               LAW   \n",
       "54      ABASCAL,  REECE E  TRAFFIC CONTROL AIDE-HOURLY              OEMC   \n",
       "56  ABBATACOLA,  ROBERT J          ELECTRICAL MECHANIC          AVIATION   \n",
       "57     ABBATE,  JOSEPH L       POOL MOTOR TRUCK DRIVER     STREETS & SAN   \n",
       "60       ABBOTT,  BETTY L           FOSTER GRANDPARENT  FAMILY & SUPPORT   \n",
       "\n",
       "   full_or_part-time salary_or_hourly  typical_hours annual_salary hourly_rate  \n",
       "11                 F           Hourly           35.0           NaN      $14.51  \n",
       "54                 P           Hourly           20.0           NaN      $19.66  \n",
       "56                 F           Hourly           40.0           NaN      $46.10  \n",
       "57                 F           Hourly           40.0           NaN      $35.60  \n",
       "60                 P           Hourly           20.0           NaN       $2.65  "
      ]
     },
     "execution_count": 54,
     "metadata": {},
     "output_type": "execute_result"
    }
   ],
   "source": [
    "data_hour = data[~(data['hourly_rate'].isna())]\n",
    "data_hour.head()\n",
    "\n"
   ]
  },
  {
   "cell_type": "code",
   "execution_count": 55,
   "metadata": {},
   "outputs": [
    {
     "name": "stderr",
     "output_type": "stream",
     "text": [
      "C:\\Users\\Phillip\\AppData\\Local\\Temp/ipykernel_24412/2937427202.py:1: SettingWithCopyWarning: \n",
      "A value is trying to be set on a copy of a slice from a DataFrame.\n",
      "Try using .loc[row_indexer,col_indexer] = value instead\n",
      "\n",
      "See the caveats in the documentation: https://pandas.pydata.org/pandas-docs/stable/user_guide/indexing.html#returning-a-view-versus-a-copy\n",
      "  data_hour['hourly_rate'] = data_hour['hourly_rate'].str.replace('$', '', regex = True).astype('float64')\n"
     ]
    }
   ],
   "source": [
    "data_hour['hourly_rate'] = data_hour['hourly_rate'].str.replace('$', '', regex = True).astype('float64')\n"
   ]
  },
  {
   "cell_type": "code",
   "execution_count": 56,
   "metadata": {},
   "outputs": [
    {
     "data": {
      "text/html": [
       "<div>\n",
       "<style scoped>\n",
       "    .dataframe tbody tr th:only-of-type {\n",
       "        vertical-align: middle;\n",
       "    }\n",
       "\n",
       "    .dataframe tbody tr th {\n",
       "        vertical-align: top;\n",
       "    }\n",
       "\n",
       "    .dataframe thead th {\n",
       "        text-align: right;\n",
       "    }\n",
       "</style>\n",
       "<table border=\"1\" class=\"dataframe\">\n",
       "  <thead>\n",
       "    <tr style=\"text-align: right;\">\n",
       "      <th></th>\n",
       "      <th>name</th>\n",
       "      <th>job_titles</th>\n",
       "      <th>department</th>\n",
       "      <th>full_or_part-time</th>\n",
       "      <th>salary_or_hourly</th>\n",
       "      <th>typical_hours</th>\n",
       "      <th>annual_salary</th>\n",
       "      <th>hourly_rate</th>\n",
       "    </tr>\n",
       "  </thead>\n",
       "  <tbody>\n",
       "    <tr>\n",
       "      <th>11</th>\n",
       "      <td>FITCH,  JORDAN M</td>\n",
       "      <td>LAW CLERK</td>\n",
       "      <td>LAW</td>\n",
       "      <td>F</td>\n",
       "      <td>Hourly</td>\n",
       "      <td>35.0</td>\n",
       "      <td>NaN</td>\n",
       "      <td>14.51</td>\n",
       "    </tr>\n",
       "    <tr>\n",
       "      <th>54</th>\n",
       "      <td>ABASCAL,  REECE E</td>\n",
       "      <td>TRAFFIC CONTROL AIDE-HOURLY</td>\n",
       "      <td>OEMC</td>\n",
       "      <td>P</td>\n",
       "      <td>Hourly</td>\n",
       "      <td>20.0</td>\n",
       "      <td>NaN</td>\n",
       "      <td>19.66</td>\n",
       "    </tr>\n",
       "    <tr>\n",
       "      <th>56</th>\n",
       "      <td>ABBATACOLA,  ROBERT J</td>\n",
       "      <td>ELECTRICAL MECHANIC</td>\n",
       "      <td>AVIATION</td>\n",
       "      <td>F</td>\n",
       "      <td>Hourly</td>\n",
       "      <td>40.0</td>\n",
       "      <td>NaN</td>\n",
       "      <td>46.10</td>\n",
       "    </tr>\n",
       "    <tr>\n",
       "      <th>57</th>\n",
       "      <td>ABBATE,  JOSEPH L</td>\n",
       "      <td>POOL MOTOR TRUCK DRIVER</td>\n",
       "      <td>STREETS &amp; SAN</td>\n",
       "      <td>F</td>\n",
       "      <td>Hourly</td>\n",
       "      <td>40.0</td>\n",
       "      <td>NaN</td>\n",
       "      <td>35.60</td>\n",
       "    </tr>\n",
       "    <tr>\n",
       "      <th>60</th>\n",
       "      <td>ABBOTT,  BETTY L</td>\n",
       "      <td>FOSTER GRANDPARENT</td>\n",
       "      <td>FAMILY &amp; SUPPORT</td>\n",
       "      <td>P</td>\n",
       "      <td>Hourly</td>\n",
       "      <td>20.0</td>\n",
       "      <td>NaN</td>\n",
       "      <td>2.65</td>\n",
       "    </tr>\n",
       "  </tbody>\n",
       "</table>\n",
       "</div>"
      ],
      "text/plain": [
       "                     name                   job_titles        department  \\\n",
       "11       FITCH,  JORDAN M                    LAW CLERK               LAW   \n",
       "54      ABASCAL,  REECE E  TRAFFIC CONTROL AIDE-HOURLY              OEMC   \n",
       "56  ABBATACOLA,  ROBERT J          ELECTRICAL MECHANIC          AVIATION   \n",
       "57     ABBATE,  JOSEPH L       POOL MOTOR TRUCK DRIVER     STREETS & SAN   \n",
       "60       ABBOTT,  BETTY L           FOSTER GRANDPARENT  FAMILY & SUPPORT   \n",
       "\n",
       "   full_or_part-time salary_or_hourly  typical_hours annual_salary  \\\n",
       "11                 F           Hourly           35.0           NaN   \n",
       "54                 P           Hourly           20.0           NaN   \n",
       "56                 F           Hourly           40.0           NaN   \n",
       "57                 F           Hourly           40.0           NaN   \n",
       "60                 P           Hourly           20.0           NaN   \n",
       "\n",
       "    hourly_rate  \n",
       "11        14.51  \n",
       "54        19.66  \n",
       "56        46.10  \n",
       "57        35.60  \n",
       "60         2.65  "
      ]
     },
     "execution_count": 56,
     "metadata": {},
     "output_type": "execute_result"
    }
   ],
   "source": [
    "data_hour.head()"
   ]
  },
  {
   "cell_type": "code",
   "execution_count": 57,
   "metadata": {},
   "outputs": [
    {
     "data": {
      "text/plain": [
       "32.86819231257292"
      ]
     },
     "execution_count": 57,
     "metadata": {},
     "output_type": "execute_result"
    }
   ],
   "source": [
    "data_hour['hourly_rate'].mean()"
   ]
  },
  {
   "cell_type": "code",
   "execution_count": 58,
   "metadata": {},
   "outputs": [],
   "source": [
    "from scipy.stats import ttest_1samp\n",
    "\n",
    "stat, pval = ttest_1samp(data_hour['hourly_rate'], 30)\n",
    "\n",
    "# H0 : Hourly Wage(mean) == 30$\n",
    "# H1 : Hourly Wage(mean) != 30%"
   ]
  },
  {
   "cell_type": "code",
   "execution_count": 59,
   "metadata": {},
   "outputs": [
    {
     "name": "stdout",
     "output_type": "stream",
     "text": [
      "stat is   21.003532193332216\n",
      "pvalue for the two-tailed test is  2.4048011351057683e-95\n"
     ]
    }
   ],
   "source": [
    "print('stat is  ', stat)\n",
    "print('pvalue for the two-tailed test is ', pval)"
   ]
  },
  {
   "cell_type": "markdown",
   "metadata": {},
   "source": [
    "# since the pvalue for the two tailed test is way lower than 0.05 we have to reject the H0 Hypothesis and have evidence to assume H1 is correct"
   ]
  },
  {
   "cell_type": "markdown",
   "metadata": {},
   "source": [
    "We are also curious about salaries in the police force. The chief of police in Chicago claimed in a press briefing that salaries this year are higher than last year's mean of $86000/year a year for all salaried employees. Test this one sided hypothesis using a 95% confidence interval.\n",
    "\n",
    "Hint: A one tailed test has a p-value that is half of the two tailed p-value. If our hypothesis is greater than, then to reject, the test statistic must also be positive."
   ]
  },
  {
   "cell_type": "code",
   "execution_count": 60,
   "metadata": {},
   "outputs": [
    {
     "data": {
      "text/html": [
       "<div>\n",
       "<style scoped>\n",
       "    .dataframe tbody tr th:only-of-type {\n",
       "        vertical-align: middle;\n",
       "    }\n",
       "\n",
       "    .dataframe tbody tr th {\n",
       "        vertical-align: top;\n",
       "    }\n",
       "\n",
       "    .dataframe thead th {\n",
       "        text-align: right;\n",
       "    }\n",
       "</style>\n",
       "<table border=\"1\" class=\"dataframe\">\n",
       "  <thead>\n",
       "    <tr style=\"text-align: right;\">\n",
       "      <th></th>\n",
       "      <th>name</th>\n",
       "      <th>job_titles</th>\n",
       "      <th>department</th>\n",
       "      <th>full_or_part-time</th>\n",
       "      <th>salary_or_hourly</th>\n",
       "      <th>typical_hours</th>\n",
       "      <th>annual_salary</th>\n",
       "      <th>hourly_rate</th>\n",
       "    </tr>\n",
       "  </thead>\n",
       "  <tbody>\n",
       "    <tr>\n",
       "      <th>0</th>\n",
       "      <td>ALLISON,  PAUL W</td>\n",
       "      <td>LIEUTENANT</td>\n",
       "      <td>FIRE</td>\n",
       "      <td>F</td>\n",
       "      <td>Salary</td>\n",
       "      <td>NaN</td>\n",
       "      <td>$107790.00</td>\n",
       "      <td>NaN</td>\n",
       "    </tr>\n",
       "    <tr>\n",
       "      <th>1</th>\n",
       "      <td>BRUNO,  KEVIN D</td>\n",
       "      <td>SERGEANT</td>\n",
       "      <td>POLICE</td>\n",
       "      <td>F</td>\n",
       "      <td>Salary</td>\n",
       "      <td>NaN</td>\n",
       "      <td>$104628.00</td>\n",
       "      <td>NaN</td>\n",
       "    </tr>\n",
       "    <tr>\n",
       "      <th>2</th>\n",
       "      <td>COOPER,  JOHN E</td>\n",
       "      <td>LIEUTENANT-EMT</td>\n",
       "      <td>FIRE</td>\n",
       "      <td>F</td>\n",
       "      <td>Salary</td>\n",
       "      <td>NaN</td>\n",
       "      <td>$114324.00</td>\n",
       "      <td>NaN</td>\n",
       "    </tr>\n",
       "    <tr>\n",
       "      <th>3</th>\n",
       "      <td>CRESPO,  VILMA I</td>\n",
       "      <td>STAFF ASST</td>\n",
       "      <td>LAW</td>\n",
       "      <td>F</td>\n",
       "      <td>Salary</td>\n",
       "      <td>NaN</td>\n",
       "      <td>$76932.00</td>\n",
       "      <td>NaN</td>\n",
       "    </tr>\n",
       "    <tr>\n",
       "      <th>4</th>\n",
       "      <td>DOLAN,  ROBERT J</td>\n",
       "      <td>SERGEANT</td>\n",
       "      <td>POLICE</td>\n",
       "      <td>F</td>\n",
       "      <td>Salary</td>\n",
       "      <td>NaN</td>\n",
       "      <td>$111474.00</td>\n",
       "      <td>NaN</td>\n",
       "    </tr>\n",
       "  </tbody>\n",
       "</table>\n",
       "</div>"
      ],
      "text/plain": [
       "               name      job_titles department full_or_part-time  \\\n",
       "0  ALLISON,  PAUL W      LIEUTENANT       FIRE                 F   \n",
       "1   BRUNO,  KEVIN D        SERGEANT     POLICE                 F   \n",
       "2   COOPER,  JOHN E  LIEUTENANT-EMT       FIRE                 F   \n",
       "3  CRESPO,  VILMA I      STAFF ASST        LAW                 F   \n",
       "4  DOLAN,  ROBERT J        SERGEANT     POLICE                 F   \n",
       "\n",
       "  salary_or_hourly  typical_hours annual_salary hourly_rate  \n",
       "0           Salary            NaN    $107790.00         NaN  \n",
       "1           Salary            NaN    $104628.00         NaN  \n",
       "2           Salary            NaN    $114324.00         NaN  \n",
       "3           Salary            NaN     $76932.00         NaN  \n",
       "4           Salary            NaN    $111474.00         NaN  "
      ]
     },
     "execution_count": 60,
     "metadata": {},
     "output_type": "execute_result"
    }
   ],
   "source": [
    "data_annual = data[~(data['annual_salary'].isna())]\n",
    "data_annual.head()\n"
   ]
  },
  {
   "cell_type": "code",
   "execution_count": 61,
   "metadata": {},
   "outputs": [
    {
     "name": "stderr",
     "output_type": "stream",
     "text": [
      "C:\\Users\\Phillip\\AppData\\Local\\Temp/ipykernel_24412/2202351111.py:1: SettingWithCopyWarning: \n",
      "A value is trying to be set on a copy of a slice from a DataFrame.\n",
      "Try using .loc[row_indexer,col_indexer] = value instead\n",
      "\n",
      "See the caveats in the documentation: https://pandas.pydata.org/pandas-docs/stable/user_guide/indexing.html#returning-a-view-versus-a-copy\n",
      "  data_annual['annual_salary'] = data_annual['annual_salary'].str.replace('$', '', regex = True).astype('float64')\n"
     ]
    }
   ],
   "source": [
    "data_annual['annual_salary'] = data_annual['annual_salary'].str.replace('$', '', regex = True).astype('float64')\n"
   ]
  },
  {
   "cell_type": "code",
   "execution_count": 62,
   "metadata": {},
   "outputs": [
    {
     "data": {
      "text/html": [
       "<div>\n",
       "<style scoped>\n",
       "    .dataframe tbody tr th:only-of-type {\n",
       "        vertical-align: middle;\n",
       "    }\n",
       "\n",
       "    .dataframe tbody tr th {\n",
       "        vertical-align: top;\n",
       "    }\n",
       "\n",
       "    .dataframe thead th {\n",
       "        text-align: right;\n",
       "    }\n",
       "</style>\n",
       "<table border=\"1\" class=\"dataframe\">\n",
       "  <thead>\n",
       "    <tr style=\"text-align: right;\">\n",
       "      <th></th>\n",
       "      <th>name</th>\n",
       "      <th>job_titles</th>\n",
       "      <th>department</th>\n",
       "      <th>full_or_part-time</th>\n",
       "      <th>salary_or_hourly</th>\n",
       "      <th>typical_hours</th>\n",
       "      <th>annual_salary</th>\n",
       "      <th>hourly_rate</th>\n",
       "    </tr>\n",
       "  </thead>\n",
       "  <tbody>\n",
       "    <tr>\n",
       "      <th>0</th>\n",
       "      <td>ALLISON,  PAUL W</td>\n",
       "      <td>LIEUTENANT</td>\n",
       "      <td>FIRE</td>\n",
       "      <td>F</td>\n",
       "      <td>Salary</td>\n",
       "      <td>NaN</td>\n",
       "      <td>107790.0</td>\n",
       "      <td>NaN</td>\n",
       "    </tr>\n",
       "    <tr>\n",
       "      <th>1</th>\n",
       "      <td>BRUNO,  KEVIN D</td>\n",
       "      <td>SERGEANT</td>\n",
       "      <td>POLICE</td>\n",
       "      <td>F</td>\n",
       "      <td>Salary</td>\n",
       "      <td>NaN</td>\n",
       "      <td>104628.0</td>\n",
       "      <td>NaN</td>\n",
       "    </tr>\n",
       "    <tr>\n",
       "      <th>2</th>\n",
       "      <td>COOPER,  JOHN E</td>\n",
       "      <td>LIEUTENANT-EMT</td>\n",
       "      <td>FIRE</td>\n",
       "      <td>F</td>\n",
       "      <td>Salary</td>\n",
       "      <td>NaN</td>\n",
       "      <td>114324.0</td>\n",
       "      <td>NaN</td>\n",
       "    </tr>\n",
       "    <tr>\n",
       "      <th>3</th>\n",
       "      <td>CRESPO,  VILMA I</td>\n",
       "      <td>STAFF ASST</td>\n",
       "      <td>LAW</td>\n",
       "      <td>F</td>\n",
       "      <td>Salary</td>\n",
       "      <td>NaN</td>\n",
       "      <td>76932.0</td>\n",
       "      <td>NaN</td>\n",
       "    </tr>\n",
       "    <tr>\n",
       "      <th>4</th>\n",
       "      <td>DOLAN,  ROBERT J</td>\n",
       "      <td>SERGEANT</td>\n",
       "      <td>POLICE</td>\n",
       "      <td>F</td>\n",
       "      <td>Salary</td>\n",
       "      <td>NaN</td>\n",
       "      <td>111474.0</td>\n",
       "      <td>NaN</td>\n",
       "    </tr>\n",
       "  </tbody>\n",
       "</table>\n",
       "</div>"
      ],
      "text/plain": [
       "               name      job_titles department full_or_part-time  \\\n",
       "0  ALLISON,  PAUL W      LIEUTENANT       FIRE                 F   \n",
       "1   BRUNO,  KEVIN D        SERGEANT     POLICE                 F   \n",
       "2   COOPER,  JOHN E  LIEUTENANT-EMT       FIRE                 F   \n",
       "3  CRESPO,  VILMA I      STAFF ASST        LAW                 F   \n",
       "4  DOLAN,  ROBERT J        SERGEANT     POLICE                 F   \n",
       "\n",
       "  salary_or_hourly  typical_hours  annual_salary hourly_rate  \n",
       "0           Salary            NaN       107790.0         NaN  \n",
       "1           Salary            NaN       104628.0         NaN  \n",
       "2           Salary            NaN       114324.0         NaN  \n",
       "3           Salary            NaN        76932.0         NaN  \n",
       "4           Salary            NaN       111474.0         NaN  "
      ]
     },
     "execution_count": 62,
     "metadata": {},
     "output_type": "execute_result"
    }
   ],
   "source": [
    "data_annual.head()"
   ]
  },
  {
   "cell_type": "code",
   "execution_count": 63,
   "metadata": {},
   "outputs": [
    {
     "data": {
      "text/plain": [
       "87512.78024137241"
      ]
     },
     "execution_count": 63,
     "metadata": {},
     "output_type": "execute_result"
    }
   ],
   "source": [
    "data_annual['annual_salary'].mean()"
   ]
  },
  {
   "cell_type": "code",
   "execution_count": 64,
   "metadata": {},
   "outputs": [],
   "source": [
    "stat, pval = ttest_1samp(data_annual['annual_salary'], 86000)\n",
    "\n",
    "\n",
    "# H0 : annual_salary(mean) == 86000$\n",
    "# H1 : annual_salary(mean) != 86000%"
   ]
  },
  {
   "cell_type": "code",
   "execution_count": 65,
   "metadata": {},
   "outputs": [
    {
     "name": "stdout",
     "output_type": "stream",
     "text": [
      "stat is   11.579263110111727\n",
      "pvalue for the one-tailed test is  3.1532773354581996e-31\n"
     ]
    }
   ],
   "source": [
    "print('stat is  ', stat)\n",
    "print('pvalue for the one-tailed test is ', pval/2)"
   ]
  },
  {
   "cell_type": "markdown",
   "metadata": {},
   "source": [
    "# since the pvalue for the one tailed test is way lower than 0.05 we have to reject the H0 Hypothesis and have evidence to assume H1 is correct"
   ]
  },
  {
   "cell_type": "markdown",
   "metadata": {},
   "source": [
    "Using the `crosstab` function, find the department that has the most hourly workers. "
   ]
  },
  {
   "cell_type": "code",
   "execution_count": 66,
   "metadata": {},
   "outputs": [
    {
     "data": {
      "text/html": [
       "<div>\n",
       "<style scoped>\n",
       "    .dataframe tbody tr th:only-of-type {\n",
       "        vertical-align: middle;\n",
       "    }\n",
       "\n",
       "    .dataframe tbody tr th {\n",
       "        vertical-align: top;\n",
       "    }\n",
       "\n",
       "    .dataframe thead th {\n",
       "        text-align: right;\n",
       "    }\n",
       "</style>\n",
       "<table border=\"1\" class=\"dataframe\">\n",
       "  <thead>\n",
       "    <tr style=\"text-align: right;\">\n",
       "      <th>salary_or_hourly</th>\n",
       "      <th>Hourly</th>\n",
       "    </tr>\n",
       "    <tr>\n",
       "      <th>department</th>\n",
       "      <th></th>\n",
       "    </tr>\n",
       "  </thead>\n",
       "  <tbody>\n",
       "    <tr>\n",
       "      <th>STREETS &amp; SAN</th>\n",
       "      <td>1873</td>\n",
       "    </tr>\n",
       "    <tr>\n",
       "      <th>WATER MGMNT</th>\n",
       "      <td>1512</td>\n",
       "    </tr>\n",
       "    <tr>\n",
       "      <th>OEMC</th>\n",
       "      <td>1212</td>\n",
       "    </tr>\n",
       "    <tr>\n",
       "      <th>AVIATION</th>\n",
       "      <td>1056</td>\n",
       "    </tr>\n",
       "    <tr>\n",
       "      <th>GENERAL SERVICES</th>\n",
       "      <td>767</td>\n",
       "    </tr>\n",
       "    <tr>\n",
       "      <th>TRANSPORTN</th>\n",
       "      <td>707</td>\n",
       "    </tr>\n",
       "    <tr>\n",
       "      <th>FAMILY &amp; SUPPORT</th>\n",
       "      <td>300</td>\n",
       "    </tr>\n",
       "    <tr>\n",
       "      <th>PUBLIC LIBRARY</th>\n",
       "      <td>224</td>\n",
       "    </tr>\n",
       "    <tr>\n",
       "      <th>CITY COUNCIL</th>\n",
       "      <td>52</td>\n",
       "    </tr>\n",
       "    <tr>\n",
       "      <th>LAW</th>\n",
       "      <td>44</td>\n",
       "    </tr>\n",
       "    <tr>\n",
       "      <th>FINANCE</th>\n",
       "      <td>43</td>\n",
       "    </tr>\n",
       "    <tr>\n",
       "      <th>POLICE</th>\n",
       "      <td>32</td>\n",
       "    </tr>\n",
       "    <tr>\n",
       "      <th>ANIMAL CONTRL</th>\n",
       "      <td>16</td>\n",
       "    </tr>\n",
       "    <tr>\n",
       "      <th>CULTURAL AFFAIRS</th>\n",
       "      <td>10</td>\n",
       "    </tr>\n",
       "    <tr>\n",
       "      <th>BUSINESS AFFAIRS</th>\n",
       "      <td>8</td>\n",
       "    </tr>\n",
       "    <tr>\n",
       "      <th>MAYOR'S OFFICE</th>\n",
       "      <td>7</td>\n",
       "    </tr>\n",
       "    <tr>\n",
       "      <th>COMMUNITY DEVELOPMENT</th>\n",
       "      <td>4</td>\n",
       "    </tr>\n",
       "    <tr>\n",
       "      <th>PROCUREMENT</th>\n",
       "      <td>4</td>\n",
       "    </tr>\n",
       "    <tr>\n",
       "      <th>HEALTH</th>\n",
       "      <td>4</td>\n",
       "    </tr>\n",
       "    <tr>\n",
       "      <th>CITY CLERK</th>\n",
       "      <td>3</td>\n",
       "    </tr>\n",
       "    <tr>\n",
       "      <th>FIRE</th>\n",
       "      <td>2</td>\n",
       "    </tr>\n",
       "    <tr>\n",
       "      <th>HUMAN RESOURCES</th>\n",
       "      <td>1</td>\n",
       "    </tr>\n",
       "    <tr>\n",
       "      <th>BUDGET &amp; MGMT</th>\n",
       "      <td>1</td>\n",
       "    </tr>\n",
       "    <tr>\n",
       "      <th>TREASURER</th>\n",
       "      <td>1</td>\n",
       "    </tr>\n",
       "  </tbody>\n",
       "</table>\n",
       "</div>"
      ],
      "text/plain": [
       "salary_or_hourly       Hourly\n",
       "department                   \n",
       "STREETS & SAN            1873\n",
       "WATER MGMNT              1512\n",
       "OEMC                     1212\n",
       "AVIATION                 1056\n",
       "GENERAL SERVICES          767\n",
       "TRANSPORTN                707\n",
       "FAMILY & SUPPORT          300\n",
       "PUBLIC LIBRARY            224\n",
       "CITY COUNCIL               52\n",
       "LAW                        44\n",
       "FINANCE                    43\n",
       "POLICE                     32\n",
       "ANIMAL CONTRL              16\n",
       "CULTURAL AFFAIRS           10\n",
       "BUSINESS AFFAIRS            8\n",
       "MAYOR'S OFFICE              7\n",
       "COMMUNITY DEVELOPMENT       4\n",
       "PROCUREMENT                 4\n",
       "HEALTH                      4\n",
       "CITY CLERK                  3\n",
       "FIRE                        2\n",
       "HUMAN RESOURCES             1\n",
       "BUDGET & MGMT               1\n",
       "TREASURER                   1"
      ]
     },
     "execution_count": 66,
     "metadata": {},
     "output_type": "execute_result"
    }
   ],
   "source": [
    "data_cross = pd.crosstab(data_hour['department'], data_hour['salary_or_hourly'], margins = False)\n",
    "data_cross.reset_index()\n",
    "data_cross.sort_values(by=['Hourly'],ascending=False)\n",
    "\n"
   ]
  },
  {
   "cell_type": "markdown",
   "metadata": {},
   "source": [
    "The workers from the department with the most hourly workers have complained that their hourly wage is less than $35/hour. Using a one sample t-test, test this one-sided hypothesis at the 95% confidence level."
   ]
  },
  {
   "cell_type": "code",
   "execution_count": 67,
   "metadata": {},
   "outputs": [
    {
     "data": {
      "text/html": [
       "<div>\n",
       "<style scoped>\n",
       "    .dataframe tbody tr th:only-of-type {\n",
       "        vertical-align: middle;\n",
       "    }\n",
       "\n",
       "    .dataframe tbody tr th {\n",
       "        vertical-align: top;\n",
       "    }\n",
       "\n",
       "    .dataframe thead th {\n",
       "        text-align: right;\n",
       "    }\n",
       "</style>\n",
       "<table border=\"1\" class=\"dataframe\">\n",
       "  <thead>\n",
       "    <tr style=\"text-align: right;\">\n",
       "      <th></th>\n",
       "      <th>name</th>\n",
       "      <th>job_titles</th>\n",
       "      <th>department</th>\n",
       "      <th>full_or_part-time</th>\n",
       "      <th>salary_or_hourly</th>\n",
       "      <th>typical_hours</th>\n",
       "      <th>annual_salary</th>\n",
       "      <th>hourly_rate</th>\n",
       "    </tr>\n",
       "  </thead>\n",
       "  <tbody>\n",
       "    <tr>\n",
       "      <th>57</th>\n",
       "      <td>ABBATE,  JOSEPH L</td>\n",
       "      <td>POOL MOTOR TRUCK DRIVER</td>\n",
       "      <td>STREETS &amp; SAN</td>\n",
       "      <td>F</td>\n",
       "      <td>Hourly</td>\n",
       "      <td>40.0</td>\n",
       "      <td>NaN</td>\n",
       "      <td>35.60</td>\n",
       "    </tr>\n",
       "    <tr>\n",
       "      <th>73</th>\n",
       "      <td>ABDUL-SHAKUR,  TAHIR</td>\n",
       "      <td>GENERAL LABORER - DSS</td>\n",
       "      <td>STREETS &amp; SAN</td>\n",
       "      <td>F</td>\n",
       "      <td>Hourly</td>\n",
       "      <td>40.0</td>\n",
       "      <td>NaN</td>\n",
       "      <td>20.77</td>\n",
       "    </tr>\n",
       "    <tr>\n",
       "      <th>76</th>\n",
       "      <td>ABERCROMBIE,  TIMOTHY</td>\n",
       "      <td>MOTOR TRUCK DRIVER</td>\n",
       "      <td>STREETS &amp; SAN</td>\n",
       "      <td>F</td>\n",
       "      <td>Hourly</td>\n",
       "      <td>40.0</td>\n",
       "      <td>NaN</td>\n",
       "      <td>35.60</td>\n",
       "    </tr>\n",
       "    <tr>\n",
       "      <th>85</th>\n",
       "      <td>ABRAMS,  DANIELLE T</td>\n",
       "      <td>SANITATION LABORER</td>\n",
       "      <td>STREETS &amp; SAN</td>\n",
       "      <td>F</td>\n",
       "      <td>Hourly</td>\n",
       "      <td>40.0</td>\n",
       "      <td>NaN</td>\n",
       "      <td>36.21</td>\n",
       "    </tr>\n",
       "    <tr>\n",
       "      <th>88</th>\n",
       "      <td>ABRAMS,  SAMUEL A</td>\n",
       "      <td>POOL MOTOR TRUCK DRIVER</td>\n",
       "      <td>STREETS &amp; SAN</td>\n",
       "      <td>F</td>\n",
       "      <td>Hourly</td>\n",
       "      <td>40.0</td>\n",
       "      <td>NaN</td>\n",
       "      <td>35.60</td>\n",
       "    </tr>\n",
       "    <tr>\n",
       "      <th>...</th>\n",
       "      <td>...</td>\n",
       "      <td>...</td>\n",
       "      <td>...</td>\n",
       "      <td>...</td>\n",
       "      <td>...</td>\n",
       "      <td>...</td>\n",
       "      <td>...</td>\n",
       "      <td>...</td>\n",
       "    </tr>\n",
       "    <tr>\n",
       "      <th>32582</th>\n",
       "      <td>ZIZUMBO,  LUIS</td>\n",
       "      <td>MOTOR TRUCK DRIVER</td>\n",
       "      <td>STREETS &amp; SAN</td>\n",
       "      <td>F</td>\n",
       "      <td>Hourly</td>\n",
       "      <td>40.0</td>\n",
       "      <td>NaN</td>\n",
       "      <td>35.60</td>\n",
       "    </tr>\n",
       "    <tr>\n",
       "      <th>32623</th>\n",
       "      <td>ZUMMO,  ROBERT J</td>\n",
       "      <td>MOTOR TRUCK DRIVER</td>\n",
       "      <td>STREETS &amp; SAN</td>\n",
       "      <td>F</td>\n",
       "      <td>Hourly</td>\n",
       "      <td>40.0</td>\n",
       "      <td>NaN</td>\n",
       "      <td>35.60</td>\n",
       "    </tr>\n",
       "    <tr>\n",
       "      <th>32624</th>\n",
       "      <td>ZUNICH,  JONATHAN G</td>\n",
       "      <td>SANITATION LABORER</td>\n",
       "      <td>STREETS &amp; SAN</td>\n",
       "      <td>F</td>\n",
       "      <td>Hourly</td>\n",
       "      <td>40.0</td>\n",
       "      <td>NaN</td>\n",
       "      <td>36.21</td>\n",
       "    </tr>\n",
       "    <tr>\n",
       "      <th>32631</th>\n",
       "      <td>ZUNIGA,  THOMAS</td>\n",
       "      <td>GENERAL LABORER - DSS</td>\n",
       "      <td>STREETS &amp; SAN</td>\n",
       "      <td>F</td>\n",
       "      <td>Hourly</td>\n",
       "      <td>40.0</td>\n",
       "      <td>NaN</td>\n",
       "      <td>21.43</td>\n",
       "    </tr>\n",
       "    <tr>\n",
       "      <th>32637</th>\n",
       "      <td>ZURAWSKI,  MAC Z</td>\n",
       "      <td>SANITATION LABORER</td>\n",
       "      <td>STREETS &amp; SAN</td>\n",
       "      <td>F</td>\n",
       "      <td>Hourly</td>\n",
       "      <td>40.0</td>\n",
       "      <td>NaN</td>\n",
       "      <td>36.21</td>\n",
       "    </tr>\n",
       "  </tbody>\n",
       "</table>\n",
       "<p>1873 rows × 8 columns</p>\n",
       "</div>"
      ],
      "text/plain": [
       "                         name               job_titles     department  \\\n",
       "57         ABBATE,  JOSEPH L   POOL MOTOR TRUCK DRIVER  STREETS & SAN   \n",
       "73      ABDUL-SHAKUR,  TAHIR     GENERAL LABORER - DSS  STREETS & SAN   \n",
       "76     ABERCROMBIE,  TIMOTHY        MOTOR TRUCK DRIVER  STREETS & SAN   \n",
       "85        ABRAMS,  DANIELLE T       SANITATION LABORER  STREETS & SAN   \n",
       "88          ABRAMS,  SAMUEL A  POOL MOTOR TRUCK DRIVER  STREETS & SAN   \n",
       "...                       ...                      ...            ...   \n",
       "32582         ZIZUMBO,  LUIS        MOTOR TRUCK DRIVER  STREETS & SAN   \n",
       "32623        ZUMMO,  ROBERT J       MOTOR TRUCK DRIVER  STREETS & SAN   \n",
       "32624     ZUNICH,  JONATHAN G       SANITATION LABORER  STREETS & SAN   \n",
       "32631        ZUNIGA,  THOMAS     GENERAL LABORER - DSS  STREETS & SAN   \n",
       "32637       ZURAWSKI,  MAC Z        SANITATION LABORER  STREETS & SAN   \n",
       "\n",
       "      full_or_part-time salary_or_hourly  typical_hours annual_salary  \\\n",
       "57                    F           Hourly           40.0           NaN   \n",
       "73                    F           Hourly           40.0           NaN   \n",
       "76                    F           Hourly           40.0           NaN   \n",
       "85                    F           Hourly           40.0           NaN   \n",
       "88                    F           Hourly           40.0           NaN   \n",
       "...                 ...              ...            ...           ...   \n",
       "32582                 F           Hourly           40.0           NaN   \n",
       "32623                 F           Hourly           40.0           NaN   \n",
       "32624                 F           Hourly           40.0           NaN   \n",
       "32631                 F           Hourly           40.0           NaN   \n",
       "32637                 F           Hourly           40.0           NaN   \n",
       "\n",
       "       hourly_rate  \n",
       "57           35.60  \n",
       "73           20.77  \n",
       "76           35.60  \n",
       "85           36.21  \n",
       "88           35.60  \n",
       "...            ...  \n",
       "32582        35.60  \n",
       "32623        35.60  \n",
       "32624        36.21  \n",
       "32631        21.43  \n",
       "32637        36.21  \n",
       "\n",
       "[1873 rows x 8 columns]"
      ]
     },
     "execution_count": 67,
     "metadata": {},
     "output_type": "execute_result"
    }
   ],
   "source": [
    "data_streets = data_hour[(data_hour['department']=='STREETS & SAN')]\n",
    "data_streets"
   ]
  },
  {
   "cell_type": "code",
   "execution_count": 68,
   "metadata": {},
   "outputs": [
    {
     "data": {
      "text/plain": [
       "34.06726641751145"
      ]
     },
     "execution_count": 68,
     "metadata": {},
     "output_type": "execute_result"
    }
   ],
   "source": [
    "data_streets.hourly_rate.mean()"
   ]
  },
  {
   "cell_type": "code",
   "execution_count": 69,
   "metadata": {},
   "outputs": [],
   "source": [
    "stat, pval = ttest_1samp(data_streets.hourly_rate, 35)\n",
    "\n",
    "\n",
    "# H0 : Hourly Wage(mean) == 35$\n",
    "# H1 : Hourly Wage(mean) != 35%"
   ]
  },
  {
   "cell_type": "code",
   "execution_count": 70,
   "metadata": {},
   "outputs": [
    {
     "name": "stdout",
     "output_type": "stream",
     "text": [
      "stat is   -7.172610090911691\n",
      "pvalue for the one-tailed test is  5.276243152130208e-13\n"
     ]
    }
   ],
   "source": [
    "print('stat is  ', stat)\n",
    "print('pvalue for the one-tailed test is ', pval/2)"
   ]
  },
  {
   "cell_type": "markdown",
   "metadata": {},
   "source": [
    "# since the pvalue for the one tailed test is way lower than 0.05 we have to reject the H0 Hypothesis and have evidence to assume H1 is correct"
   ]
  },
  {
   "cell_type": "markdown",
   "metadata": {},
   "source": [
    "# Challenge 3: To practice - Constructing Confidence Intervals\n",
    "\n",
    "While testing our hypothesis is a great way to gather empirical evidence for accepting or rejecting the hypothesis, another way to gather evidence is by creating a confidence interval. A confidence interval gives us information about the true mean of the population. So for a 95% confidence interval, we are 95% sure that the mean of the population is within the confidence interval. \n",
    ").\n",
    "\n",
    "To read more about confidence intervals, click [here](https://en.wikipedia.org/wiki/Confidence_interval).\n",
    "\n",
    "\n",
    "In the cell below, we will construct a 95% confidence interval for the mean hourly wage of all hourly workers. \n",
    "\n",
    "The confidence interval is computed in SciPy using the `t.interval` function. You can read more about this function [here](https://docs.scipy.org/doc/scipy-0.14.0/reference/generated/scipy.stats.t.html).\n",
    "\n",
    "To compute the confidence interval of the hourly wage, use the 0.95 for the confidence level, number of rows - 1 for degrees of freedom, the mean of the sample for the location parameter and the standard error for the scale. The standard error can be computed using [this](https://docs.scipy.org/doc/scipy/reference/generated/scipy.stats.sem.html) function in SciPy."
   ]
  },
  {
   "cell_type": "code",
   "execution_count": 71,
   "metadata": {},
   "outputs": [
    {
     "data": {
      "text/html": [
       "<div>\n",
       "<style scoped>\n",
       "    .dataframe tbody tr th:only-of-type {\n",
       "        vertical-align: middle;\n",
       "    }\n",
       "\n",
       "    .dataframe tbody tr th {\n",
       "        vertical-align: top;\n",
       "    }\n",
       "\n",
       "    .dataframe thead th {\n",
       "        text-align: right;\n",
       "    }\n",
       "</style>\n",
       "<table border=\"1\" class=\"dataframe\">\n",
       "  <thead>\n",
       "    <tr style=\"text-align: right;\">\n",
       "      <th></th>\n",
       "      <th>name</th>\n",
       "      <th>job_titles</th>\n",
       "      <th>department</th>\n",
       "      <th>full_or_part-time</th>\n",
       "      <th>salary_or_hourly</th>\n",
       "      <th>typical_hours</th>\n",
       "      <th>annual_salary</th>\n",
       "      <th>hourly_rate</th>\n",
       "    </tr>\n",
       "  </thead>\n",
       "  <tbody>\n",
       "    <tr>\n",
       "      <th>11</th>\n",
       "      <td>FITCH,  JORDAN M</td>\n",
       "      <td>LAW CLERK</td>\n",
       "      <td>LAW</td>\n",
       "      <td>F</td>\n",
       "      <td>Hourly</td>\n",
       "      <td>35.0</td>\n",
       "      <td>NaN</td>\n",
       "      <td>14.51</td>\n",
       "    </tr>\n",
       "    <tr>\n",
       "      <th>54</th>\n",
       "      <td>ABASCAL,  REECE E</td>\n",
       "      <td>TRAFFIC CONTROL AIDE-HOURLY</td>\n",
       "      <td>OEMC</td>\n",
       "      <td>P</td>\n",
       "      <td>Hourly</td>\n",
       "      <td>20.0</td>\n",
       "      <td>NaN</td>\n",
       "      <td>19.66</td>\n",
       "    </tr>\n",
       "    <tr>\n",
       "      <th>56</th>\n",
       "      <td>ABBATACOLA,  ROBERT J</td>\n",
       "      <td>ELECTRICAL MECHANIC</td>\n",
       "      <td>AVIATION</td>\n",
       "      <td>F</td>\n",
       "      <td>Hourly</td>\n",
       "      <td>40.0</td>\n",
       "      <td>NaN</td>\n",
       "      <td>46.10</td>\n",
       "    </tr>\n",
       "    <tr>\n",
       "      <th>57</th>\n",
       "      <td>ABBATE,  JOSEPH L</td>\n",
       "      <td>POOL MOTOR TRUCK DRIVER</td>\n",
       "      <td>STREETS &amp; SAN</td>\n",
       "      <td>F</td>\n",
       "      <td>Hourly</td>\n",
       "      <td>40.0</td>\n",
       "      <td>NaN</td>\n",
       "      <td>35.60</td>\n",
       "    </tr>\n",
       "    <tr>\n",
       "      <th>60</th>\n",
       "      <td>ABBOTT,  BETTY L</td>\n",
       "      <td>FOSTER GRANDPARENT</td>\n",
       "      <td>FAMILY &amp; SUPPORT</td>\n",
       "      <td>P</td>\n",
       "      <td>Hourly</td>\n",
       "      <td>20.0</td>\n",
       "      <td>NaN</td>\n",
       "      <td>2.65</td>\n",
       "    </tr>\n",
       "  </tbody>\n",
       "</table>\n",
       "</div>"
      ],
      "text/plain": [
       "                     name                   job_titles        department  \\\n",
       "11       FITCH,  JORDAN M                    LAW CLERK               LAW   \n",
       "54      ABASCAL,  REECE E  TRAFFIC CONTROL AIDE-HOURLY              OEMC   \n",
       "56  ABBATACOLA,  ROBERT J          ELECTRICAL MECHANIC          AVIATION   \n",
       "57     ABBATE,  JOSEPH L       POOL MOTOR TRUCK DRIVER     STREETS & SAN   \n",
       "60       ABBOTT,  BETTY L           FOSTER GRANDPARENT  FAMILY & SUPPORT   \n",
       "\n",
       "   full_or_part-time salary_or_hourly  typical_hours annual_salary  \\\n",
       "11                 F           Hourly           35.0           NaN   \n",
       "54                 P           Hourly           20.0           NaN   \n",
       "56                 F           Hourly           40.0           NaN   \n",
       "57                 F           Hourly           40.0           NaN   \n",
       "60                 P           Hourly           20.0           NaN   \n",
       "\n",
       "    hourly_rate  \n",
       "11        14.51  \n",
       "54        19.66  \n",
       "56        46.10  \n",
       "57        35.60  \n",
       "60         2.65  "
      ]
     },
     "execution_count": 71,
     "metadata": {},
     "output_type": "execute_result"
    }
   ],
   "source": [
    "data_hour.head()"
   ]
  },
  {
   "cell_type": "code",
   "execution_count": 73,
   "metadata": {},
   "outputs": [],
   "source": [
    "confidence_level = 0.95\n",
    "degrees_freedom = len(data_hour['hourly_rate']) - 1  # or, for large values of sample size, just use that\n",
    "sample_mean = np.mean(data_hour['hourly_rate'])\n",
    "# note that we use the standard error of the sample \n",
    "# as an estimate of the standard error of the population (which is used in the theoretical formula)\n",
    "sample_standard_error = sp.stats.sem(data_hour['hourly_rate']) # sem = standard error of the mean = std(mean)/sqrt(samplesize)\n",
    "\n",
    "confidence_interval = sp.stats.t.interval(confidence_level, \n",
    "                                             degrees_freedom, \n",
    "                                             sample_mean, \n",
    "                                             sample_standard_error)"
   ]
  },
  {
   "cell_type": "code",
   "execution_count": 74,
   "metadata": {},
   "outputs": [
    {
     "name": "stdout",
     "output_type": "stream",
     "text": [
      "confidence interval is  (32.60050319432687, 33.135881430818976) .\n"
     ]
    }
   ],
   "source": [
    "print( 'confidence interval is ', confidence_interval, '.' )"
   ]
  },
  {
   "cell_type": "code",
   "execution_count": 75,
   "metadata": {},
   "outputs": [
    {
     "data": {
      "text/plain": [
       "32.86819231257292"
      ]
     },
     "execution_count": 75,
     "metadata": {},
     "output_type": "execute_result"
    }
   ],
   "source": [
    "data_hour['hourly_rate'].mean()"
   ]
  },
  {
   "cell_type": "markdown",
   "metadata": {},
   "source": [
    "Now construct the 95% confidence interval for all salaried employeed in the police in the cell below."
   ]
  },
  {
   "cell_type": "code",
   "execution_count": 88,
   "metadata": {},
   "outputs": [
    {
     "name": "stderr",
     "output_type": "stream",
     "text": [
      "C:\\Users\\Phillip\\AppData\\Local\\Temp/ipykernel_24412/466355951.py:2: SettingWithCopyWarning: \n",
      "A value is trying to be set on a copy of a slice from a DataFrame.\n",
      "Try using .loc[row_indexer,col_indexer] = value instead\n",
      "\n",
      "See the caveats in the documentation: https://pandas.pydata.org/pandas-docs/stable/user_guide/indexing.html#returning-a-view-versus-a-copy\n",
      "  data_police['annual_salary'] = data_police['annual_salary'].str.replace('$', '', regex = True).astype('float64')\n"
     ]
    },
    {
     "data": {
      "text/html": [
       "<div>\n",
       "<style scoped>\n",
       "    .dataframe tbody tr th:only-of-type {\n",
       "        vertical-align: middle;\n",
       "    }\n",
       "\n",
       "    .dataframe tbody tr th {\n",
       "        vertical-align: top;\n",
       "    }\n",
       "\n",
       "    .dataframe thead th {\n",
       "        text-align: right;\n",
       "    }\n",
       "</style>\n",
       "<table border=\"1\" class=\"dataframe\">\n",
       "  <thead>\n",
       "    <tr style=\"text-align: right;\">\n",
       "      <th></th>\n",
       "      <th>name</th>\n",
       "      <th>job_titles</th>\n",
       "      <th>department</th>\n",
       "      <th>full_or_part-time</th>\n",
       "      <th>salary_or_hourly</th>\n",
       "      <th>typical_hours</th>\n",
       "      <th>annual_salary</th>\n",
       "      <th>hourly_rate</th>\n",
       "    </tr>\n",
       "  </thead>\n",
       "  <tbody>\n",
       "    <tr>\n",
       "      <th>1</th>\n",
       "      <td>BRUNO,  KEVIN D</td>\n",
       "      <td>SERGEANT</td>\n",
       "      <td>POLICE</td>\n",
       "      <td>F</td>\n",
       "      <td>Salary</td>\n",
       "      <td>NaN</td>\n",
       "      <td>104628.0</td>\n",
       "      <td>NaN</td>\n",
       "    </tr>\n",
       "    <tr>\n",
       "      <th>4</th>\n",
       "      <td>DOLAN,  ROBERT J</td>\n",
       "      <td>SERGEANT</td>\n",
       "      <td>POLICE</td>\n",
       "      <td>F</td>\n",
       "      <td>Salary</td>\n",
       "      <td>NaN</td>\n",
       "      <td>111474.0</td>\n",
       "      <td>NaN</td>\n",
       "    </tr>\n",
       "    <tr>\n",
       "      <th>7</th>\n",
       "      <td>ELKINS,  ERIC J</td>\n",
       "      <td>SERGEANT</td>\n",
       "      <td>POLICE</td>\n",
       "      <td>F</td>\n",
       "      <td>Salary</td>\n",
       "      <td>NaN</td>\n",
       "      <td>104628.0</td>\n",
       "      <td>NaN</td>\n",
       "    </tr>\n",
       "    <tr>\n",
       "      <th>8</th>\n",
       "      <td>ESTRADA,  LUIS F</td>\n",
       "      <td>POLICE OFFICER</td>\n",
       "      <td>POLICE</td>\n",
       "      <td>F</td>\n",
       "      <td>Salary</td>\n",
       "      <td>NaN</td>\n",
       "      <td>96060.0</td>\n",
       "      <td>NaN</td>\n",
       "    </tr>\n",
       "    <tr>\n",
       "      <th>9</th>\n",
       "      <td>EWING,  MARIE A</td>\n",
       "      <td>CLERK III</td>\n",
       "      <td>POLICE</td>\n",
       "      <td>F</td>\n",
       "      <td>Salary</td>\n",
       "      <td>NaN</td>\n",
       "      <td>53076.0</td>\n",
       "      <td>NaN</td>\n",
       "    </tr>\n",
       "    <tr>\n",
       "      <th>...</th>\n",
       "      <td>...</td>\n",
       "      <td>...</td>\n",
       "      <td>...</td>\n",
       "      <td>...</td>\n",
       "      <td>...</td>\n",
       "      <td>...</td>\n",
       "      <td>...</td>\n",
       "      <td>...</td>\n",
       "    </tr>\n",
       "    <tr>\n",
       "      <th>32652</th>\n",
       "      <td>ZYGMUNT,  DAWID</td>\n",
       "      <td>POLICE OFFICER</td>\n",
       "      <td>POLICE</td>\n",
       "      <td>F</td>\n",
       "      <td>Salary</td>\n",
       "      <td>NaN</td>\n",
       "      <td>48078.0</td>\n",
       "      <td>NaN</td>\n",
       "    </tr>\n",
       "    <tr>\n",
       "      <th>32653</th>\n",
       "      <td>ZYGOWICZ,  PETER J</td>\n",
       "      <td>POLICE OFFICER</td>\n",
       "      <td>POLICE</td>\n",
       "      <td>F</td>\n",
       "      <td>Salary</td>\n",
       "      <td>NaN</td>\n",
       "      <td>90024.0</td>\n",
       "      <td>NaN</td>\n",
       "    </tr>\n",
       "    <tr>\n",
       "      <th>32654</th>\n",
       "      <td>ZYLINSKA,  KATARZYNA</td>\n",
       "      <td>POLICE OFFICER</td>\n",
       "      <td>POLICE</td>\n",
       "      <td>F</td>\n",
       "      <td>Salary</td>\n",
       "      <td>NaN</td>\n",
       "      <td>48078.0</td>\n",
       "      <td>NaN</td>\n",
       "    </tr>\n",
       "    <tr>\n",
       "      <th>32655</th>\n",
       "      <td>ZYMANTAS,  MARK E</td>\n",
       "      <td>POLICE OFFICER</td>\n",
       "      <td>POLICE</td>\n",
       "      <td>F</td>\n",
       "      <td>Salary</td>\n",
       "      <td>NaN</td>\n",
       "      <td>87006.0</td>\n",
       "      <td>NaN</td>\n",
       "    </tr>\n",
       "    <tr>\n",
       "      <th>32656</th>\n",
       "      <td>ZYRKOWSKI,  CARLO E</td>\n",
       "      <td>POLICE OFFICER</td>\n",
       "      <td>POLICE</td>\n",
       "      <td>F</td>\n",
       "      <td>Salary</td>\n",
       "      <td>NaN</td>\n",
       "      <td>93354.0</td>\n",
       "      <td>NaN</td>\n",
       "    </tr>\n",
       "  </tbody>\n",
       "</table>\n",
       "<p>12941 rows × 8 columns</p>\n",
       "</div>"
      ],
      "text/plain": [
       "                        name      job_titles department full_or_part-time  \\\n",
       "1            BRUNO,  KEVIN D        SERGEANT     POLICE                 F   \n",
       "4           DOLAN,  ROBERT J        SERGEANT     POLICE                 F   \n",
       "7            ELKINS,  ERIC J        SERGEANT     POLICE                 F   \n",
       "8           ESTRADA,  LUIS F  POLICE OFFICER     POLICE                 F   \n",
       "9            EWING,  MARIE A       CLERK III     POLICE                 F   \n",
       "...                      ...             ...        ...               ...   \n",
       "32652       ZYGMUNT,  DAWID   POLICE OFFICER     POLICE                 F   \n",
       "32653     ZYGOWICZ,  PETER J  POLICE OFFICER     POLICE                 F   \n",
       "32654  ZYLINSKA,  KATARZYNA   POLICE OFFICER     POLICE                 F   \n",
       "32655      ZYMANTAS,  MARK E  POLICE OFFICER     POLICE                 F   \n",
       "32656    ZYRKOWSKI,  CARLO E  POLICE OFFICER     POLICE                 F   \n",
       "\n",
       "      salary_or_hourly  typical_hours  annual_salary hourly_rate  \n",
       "1               Salary            NaN       104628.0         NaN  \n",
       "4               Salary            NaN       111474.0         NaN  \n",
       "7               Salary            NaN       104628.0         NaN  \n",
       "8               Salary            NaN        96060.0         NaN  \n",
       "9               Salary            NaN        53076.0         NaN  \n",
       "...                ...            ...            ...         ...  \n",
       "32652           Salary            NaN        48078.0         NaN  \n",
       "32653           Salary            NaN        90024.0         NaN  \n",
       "32654           Salary            NaN        48078.0         NaN  \n",
       "32655           Salary            NaN        87006.0         NaN  \n",
       "32656           Salary            NaN        93354.0         NaN  \n",
       "\n",
       "[12941 rows x 8 columns]"
      ]
     },
     "execution_count": 88,
     "metadata": {},
     "output_type": "execute_result"
    }
   ],
   "source": [
    "data_police = data[(data['department']=='POLICE')]\n",
    "data_police['annual_salary'] = data_police['annual_salary'].str.replace('$', '', regex = True).astype('float64')\n",
    "data_police = data_police[~(data_police['annual_salary'].isna())]\n",
    "data_police\n"
   ]
  },
  {
   "cell_type": "code",
   "execution_count": 89,
   "metadata": {},
   "outputs": [],
   "source": [
    "confidence_level = 0.95\n",
    "degrees_freedom = len(data_police['annual_salary']) - 1  # or, for large values of sample size, just use that\n",
    "sample_mean = np.mean(data_police['annual_salary'])\n",
    "# note that we use the standard error of the sample \n",
    "# as an estimate of the standard error of the population (which is used in the theoretical formula)\n",
    "sample_standard_error = sp.stats.sem(data_police['annual_salary']) # sem = standard error of the mean = std(mean)/sqrt(samplesize)\n",
    "\n",
    "confidence_interval = sp.stats.t.interval(confidence_level, \n",
    "                                             degrees_freedom, \n",
    "                                             sample_mean, \n",
    "                                             sample_standard_error)"
   ]
  },
  {
   "cell_type": "code",
   "execution_count": 90,
   "metadata": {},
   "outputs": [
    {
     "name": "stdout",
     "output_type": "stream",
     "text": [
      "confidence interval is  (87549.78923170577, 88122.26146607645) .\n"
     ]
    }
   ],
   "source": [
    "print( 'confidence interval is ', confidence_interval, '.' )"
   ]
  },
  {
   "cell_type": "code",
   "execution_count": 81,
   "metadata": {},
   "outputs": [
    {
     "data": {
      "text/plain": [
       "87836.02534889111"
      ]
     },
     "execution_count": 81,
     "metadata": {},
     "output_type": "execute_result"
    }
   ],
   "source": [
    "data_police['annual_salary'].mean()"
   ]
  },
  {
   "cell_type": "markdown",
   "metadata": {},
   "source": [
    "# Bonus Challenge - Hypothesis Tests of Proportions\n",
    "\n",
    "Another type of one sample test is a hypothesis test of proportions. In this test, we examine whether the proportion of a group in our sample is significantly different than a fraction. \n",
    "\n",
    "You can read more about one sample proportion tests [here](http://sphweb.bumc.bu.edu/otlt/MPH-Modules/BS/SAS/SAS6-CategoricalData/SAS6-CategoricalData2.html).\n",
    "\n",
    "In the cell below, use the `proportions_ztest` function from `statsmodels` to perform a hypothesis test that will determine whether the number of hourly workers in the City of Chicago is significantly different from 25% at the 95% confidence level."
   ]
  },
  {
   "cell_type": "code",
   "execution_count": 92,
   "metadata": {},
   "outputs": [
    {
     "data": {
      "text/plain": [
       "name                     0\n",
       "job_titles               0\n",
       "department               0\n",
       "full_or_part-time        0\n",
       "salary_or_hourly         0\n",
       "typical_hours        24775\n",
       "annual_salary         7883\n",
       "hourly_rate          24775\n",
       "dtype: int64"
      ]
     },
     "execution_count": 92,
     "metadata": {},
     "output_type": "execute_result"
    }
   ],
   "source": [
    "data.isna().sum() # no NaN in salary_or_hourly, whole dataset has information on what we want to analyze"
   ]
  },
  {
   "cell_type": "code",
   "execution_count": 93,
   "metadata": {},
   "outputs": [
    {
     "data": {
      "text/plain": [
       "(32658, 8)"
      ]
     },
     "execution_count": 93,
     "metadata": {},
     "output_type": "execute_result"
    }
   ],
   "source": [
    "data.shape # a total of 32658 workers"
   ]
  },
  {
   "cell_type": "code",
   "execution_count": 91,
   "metadata": {},
   "outputs": [
    {
     "data": {
      "text/plain": [
       "Salary    24775\n",
       "Hourly     7883\n",
       "Name: salary_or_hourly, dtype: int64"
      ]
     },
     "execution_count": 91,
     "metadata": {},
     "output_type": "execute_result"
    }
   ],
   "source": [
    "data.salary_or_hourly.value_counts()"
   ]
  },
  {
   "cell_type": "code",
   "execution_count": 100,
   "metadata": {},
   "outputs": [
    {
     "data": {
      "text/plain": [
       "8164.5"
      ]
     },
     "execution_count": 100,
     "metadata": {},
     "output_type": "execute_result"
    }
   ],
   "source": [
    "32658*0.25 # manual checking of the distribution, value is prett close to the actual distribution"
   ]
  },
  {
   "cell_type": "markdown",
   "metadata": {},
   "source": [
    "We expect 25% of the workers to be hourly workes , so our null hypothesis is: 25% of the workers are hourly workers\n",
    "Our alternative hypothesis is: more than 25% of the workers are hourly workers\n",
    "We sampled 32658 rows, and found 7883 are hourly workers\n",
    "We use a 1-sample z-test to check if the sample allows us to accept or reject the null hypothesis"
   ]
  },
  {
   "cell_type": "code",
   "execution_count": 109,
   "metadata": {},
   "outputs": [
    {
     "name": "stdout",
     "output_type": "stream",
     "text": [
      "-3.6401610358268113\n",
      "0.9998637662093031\n"
     ]
    }
   ],
   "source": [
    "from statsmodels.stats.proportion import proportions_ztest\n",
    "significance = 0.05\n",
    "sample_success = 7883\n",
    "sample_size = 32658\n",
    "null_hypothesis = 0.25\n",
    "stat, p_value = proportions_ztest(count=sample_success, nobs=sample_size, value=null_hypothesis, alternative='larger')\n",
    "\n",
    "print(stat)\n",
    "print(p_value)"
   ]
  },
  {
   "cell_type": "code",
   "execution_count": null,
   "metadata": {},
   "outputs": [],
   "source": [
    "# p value is very close to 1, this means we keep our null hypothesis : 25% of the workers are hourly workers, we discard the hypothesis that there is a significant difference"
   ]
  }
 ],
 "metadata": {
  "kernelspec": {
   "display_name": "Python 3",
   "language": "python",
   "name": "python3"
  },
  "language_info": {
   "codemirror_mode": {
    "name": "ipython",
    "version": 3
   },
   "file_extension": ".py",
   "mimetype": "text/x-python",
   "name": "python",
   "nbconvert_exporter": "python",
   "pygments_lexer": "ipython3",
   "version": "3.9.7"
  }
 },
 "nbformat": 4,
 "nbformat_minor": 2
}
